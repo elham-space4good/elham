{
 "cells": [
  {
   "cell_type": "code",
   "execution_count": 1,
   "metadata": {},
   "outputs": [],
   "source": [
    "\n",
    "\n",
    "import sys\n",
    "from glob import glob\n",
    "import rasterio"
   ]
  },
  {
   "cell_type": "code",
   "execution_count": 3,
   "metadata": {},
   "outputs": [
    {
     "data": {
      "text/plain": [
       "['D:\\\\S4G\\\\Radar_data\\\\ALOS1\\\\Code\\\\data\\\\AP_March2008_11210_FBS_F7170_RT1_HH.tif',\n",
       " 'D:\\\\S4G\\\\Radar_data\\\\ALOS1\\\\Code\\\\data\\\\AP_Jan2007_05171_FBS_F7170_RT1_HH.tif',\n",
       " 'D:\\\\S4G\\\\Radar_data\\\\ALOS1\\\\Code\\\\data\\\\AP_Oct2008_14565_FBD_F7170_RT1_HH.tif']"
      ]
     },
     "execution_count": 3,
     "metadata": {},
     "output_type": "execute_result"
    }
   ],
   "source": [
    "glist = glob( r\"D:\\S4G\\Radar_data\\ALOS1\\Code\\data\\*.tif\")\n",
    "glist"
   ]
  },
  {
   "cell_type": "code",
   "execution_count": 4,
   "metadata": {},
   "outputs": [],
   "source": [
    "with rasterio.open(glist[0]) as src0:\n",
    "    meta = src0.meta"
   ]
  },
  {
   "cell_type": "code",
   "execution_count": 5,
   "metadata": {},
   "outputs": [],
   "source": [
    "meta.update(count = len(glist))"
   ]
  },
  {
   "cell_type": "code",
   "execution_count": 10,
   "metadata": {},
   "outputs": [
    {
     "data": {
      "text/plain": [
       "'D:\\\\S4G\\\\Radar_data\\\\ALOS1\\\\Code\\\\data\\\\AP_Oct2008_14565_FBD_F7170_RT1_HH.tif'"
      ]
     },
     "execution_count": 10,
     "metadata": {},
     "output_type": "execute_result"
    }
   ],
   "source": [
    "glist.sort()\n",
    "glist[0]\n",
    "glist[1]\n",
    "glist[2]"
   ]
  },
  {
   "cell_type": "code",
   "execution_count": 7,
   "metadata": {},
   "outputs": [],
   "source": [
    "\n",
    "\n",
    "with rasterio.open(r\"D:\\S4G\\Radar_data\\ALOS1\\Code\\data\\ALOS_stack_07M08O08_HH.tif\", 'w', **meta) as dst:\n",
    "    for id, layer in enumerate(glist, start=1):\n",
    "        with rasterio.open(layer) as src1:\n",
    "            dst.write_band(id, src1.read(1))\n",
    "\n"
   ]
  },
  {
   "cell_type": "code",
   "execution_count": 8,
   "metadata": {},
   "outputs": [],
   "source": [
    "with rasterio.open(r\"D:\\S4G\\Radar_data\\ALOS1\\Code\\data\\ALOS_stack_07M08O08_HH.tif\") as stack_src:\n",
    "    stack_data = stack_src.read(masked=True)\n",
    "    stack_meta = stack_src.profile"
   ]
  },
  {
   "cell_type": "code",
   "execution_count": 9,
   "metadata": {},
   "outputs": [
    {
     "data": {
      "text/plain": [
       "{'driver': 'GTiff', 'dtype': 'float32', 'nodata': 0.0, 'width': 6483, 'height': 5792, 'count': 3, 'crs': CRS.from_epsg(32750), 'transform': Affine(12.5, 0.0, 399407.84375,\n",
       "       0.0, -12.5, 9973036.25), 'tiled': False, 'interleave': 'pixel'}"
      ]
     },
     "execution_count": 9,
     "metadata": {},
     "output_type": "execute_result"
    }
   ],
   "source": [
    "stack_meta"
   ]
  },
  {
   "cell_type": "code",
   "execution_count": null,
   "metadata": {},
   "outputs": [],
   "source": []
  }
 ],
 "metadata": {
  "kernelspec": {
   "display_name": "Python 3",
   "language": "python",
   "name": "python3"
  },
  "language_info": {
   "codemirror_mode": {
    "name": "ipython",
    "version": 3
   },
   "file_extension": ".py",
   "mimetype": "text/x-python",
   "name": "python",
   "nbconvert_exporter": "python",
   "pygments_lexer": "ipython3",
   "version": "3.7.11"
  }
 },
 "nbformat": 4,
 "nbformat_minor": 4
}
